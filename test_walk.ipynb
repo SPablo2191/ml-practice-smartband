{
 "cells": [
  {
   "cell_type": "code",
   "execution_count": 38,
   "metadata": {},
   "outputs": [],
   "source": [
    "import pandas as pd\n",
    "from sklearn.cluster import KMeans\n",
    "from sklearn.cluster import KMeans\n",
    "from sklearn.preprocessing import MinMaxScaler\n",
    "from datetime import datetime"
   ]
  },
  {
   "cell_type": "code",
   "execution_count": 39,
   "metadata": {},
   "outputs": [],
   "source": [
    "def convert_time_to_seconds(time_value):\n",
    "    if isinstance(time_value, list):\n",
    "        time_str = ':'.join(time_value)\n",
    "    else:\n",
    "        time_str = time_value\n",
    "    \n",
    "    parts = time_str.split(':')\n",
    "    if len(parts) == 3:\n",
    "        hours = int(parts[0])\n",
    "        minutes = int(parts[1])\n",
    "        seconds = int(float(parts[2]))  # Convertir segundos a entero\n",
    "        total_seconds = hours * 3600 + minutes * 60 + seconds\n",
    "        return total_seconds\n",
    "    else:\n",
    "        return 0  # Otra opción: devolver None para indicar un valor inválido"
   ]
  },
  {
   "cell_type": "code",
   "execution_count": 40,
   "metadata": {},
   "outputs": [
    {
     "data": {
      "text/html": [
       "<div>\n",
       "<style scoped>\n",
       "    .dataframe tbody tr th:only-of-type {\n",
       "        vertical-align: middle;\n",
       "    }\n",
       "\n",
       "    .dataframe tbody tr th {\n",
       "        vertical-align: top;\n",
       "    }\n",
       "\n",
       "    .dataframe thead th {\n",
       "        text-align: right;\n",
       "    }\n",
       "</style>\n",
       "<table border=\"1\" class=\"dataframe\">\n",
       "  <thead>\n",
       "    <tr style=\"text-align: right;\">\n",
       "      <th></th>\n",
       "      <th>name</th>\n",
       "      <th>day</th>\n",
       "      <th>month</th>\n",
       "      <th>year</th>\n",
       "      <th>age</th>\n",
       "      <th>weight</th>\n",
       "      <th>size</th>\n",
       "      <th>seat_height</th>\n",
       "      <th>waist</th>\n",
       "      <th>average_rate</th>\n",
       "      <th>average_cadence</th>\n",
       "      <th>number_steps</th>\n",
       "      <th>calories</th>\n",
       "      <th>average_speed</th>\n",
       "      <th>average_stride</th>\n",
       "      <th>average_heart_rate</th>\n",
       "      <th>average_max_heart_rate</th>\n",
       "    </tr>\n",
       "  </thead>\n",
       "  <tbody>\n",
       "    <tr>\n",
       "      <th>0</th>\n",
       "      <td>CHUCO TACCA, Gabriel Alberto</td>\n",
       "      <td>24.0</td>\n",
       "      <td>3.0</td>\n",
       "      <td>2010.0</td>\n",
       "      <td>12.0</td>\n",
       "      <td>50,9</td>\n",
       "      <td>143,8</td>\n",
       "      <td>73,5</td>\n",
       "      <td>86,1</td>\n",
       "      <td>0:11:16</td>\n",
       "      <td>109</td>\n",
       "      <td>838</td>\n",
       "      <td>77</td>\n",
       "      <td>5.32</td>\n",
       "      <td>81</td>\n",
       "      <td>130</td>\n",
       "      <td>139</td>\n",
       "    </tr>\n",
       "    <tr>\n",
       "      <th>1</th>\n",
       "      <td>FIESTAS PAZ, Jose Edilberto</td>\n",
       "      <td>3.0</td>\n",
       "      <td>11.0</td>\n",
       "      <td>2009.0</td>\n",
       "      <td>13.0</td>\n",
       "      <td>40,9</td>\n",
       "      <td>156</td>\n",
       "      <td>77,5</td>\n",
       "      <td>64,5</td>\n",
       "      <td>0:09:54</td>\n",
       "      <td>124</td>\n",
       "      <td>803</td>\n",
       "      <td>69</td>\n",
       "      <td>6.67</td>\n",
       "      <td>79</td>\n",
       "      <td>129</td>\n",
       "      <td>140</td>\n",
       "    </tr>\n",
       "    <tr>\n",
       "      <th>2</th>\n",
       "      <td>HUACHACA HURTADO, Jhon Dayron</td>\n",
       "      <td>12.0</td>\n",
       "      <td>7.0</td>\n",
       "      <td>2009.0</td>\n",
       "      <td>13.0</td>\n",
       "      <td>57</td>\n",
       "      <td>159,7</td>\n",
       "      <td>82,5</td>\n",
       "      <td>84,2</td>\n",
       "      <td>0:08:27</td>\n",
       "      <td>130</td>\n",
       "      <td>782</td>\n",
       "      <td>65</td>\n",
       "      <td>7.10</td>\n",
       "      <td>91</td>\n",
       "      <td>123</td>\n",
       "      <td>141</td>\n",
       "    </tr>\n",
       "  </tbody>\n",
       "</table>\n",
       "</div>"
      ],
      "text/plain": [
       "                            name   day  month    year   age weight   size  \\\n",
       "0   CHUCO TACCA, Gabriel Alberto  24.0    3.0  2010.0  12.0   50,9  143,8   \n",
       "1    FIESTAS PAZ, Jose Edilberto   3.0   11.0  2009.0  13.0   40,9    156   \n",
       "2  HUACHACA HURTADO, Jhon Dayron  12.0    7.0  2009.0  13.0     57  159,7   \n",
       "\n",
       "  seat_height waist average_rate  average_cadence  number_steps  calories  \\\n",
       "0        73,5  86,1      0:11:16              109           838        77   \n",
       "1        77,5  64,5      0:09:54              124           803        69   \n",
       "2        82,5  84,2      0:08:27              130           782        65   \n",
       "\n",
       "   average_speed  average_stride  average_heart_rate  average_max_heart_rate  \n",
       "0           5.32              81                 130                     139  \n",
       "1           6.67              79                 129                     140  \n",
       "2           7.10              91                 123                     141  "
      ]
     },
     "execution_count": 40,
     "metadata": {},
     "output_type": "execute_result"
    }
   ],
   "source": [
    "data = pd.read_csv('trote.csv', encoding='latin-1', delimiter=';', header=0)\n",
    "data.head(3)"
   ]
  },
  {
   "cell_type": "code",
   "execution_count": 41,
   "metadata": {},
   "outputs": [],
   "source": [
    "# limpieza de los datos\n",
    "data['weight'] = data['weight'].str.replace(',', '.')\n",
    "data['weight'] = data['weight'].astype(float)\n",
    "\n",
    "data['size'] = data['size'].str.replace(',', '.')\n",
    "data['size'] = data['size'].astype(float)\n",
    "\n",
    "data['seat_height'] = data['seat_height'].str.replace(',', '.')\n",
    "data['seat_height'] = data['seat_height'].astype(float)\n",
    "\n",
    "data['waist'] = data['waist'].str.replace(',', '.')\n",
    "data['waist'] = data['waist'].astype(float)\n",
    "\n",
    "data['average_rate'] = data['average_rate'].str.split(':')\n",
    "data['average_rate'] = data['average_rate'].apply(convert_time_to_seconds)\n",
    "data.dropna(inplace=True)\n",
    "\n"
   ]
  },
  {
   "cell_type": "code",
   "execution_count": 42,
   "metadata": {},
   "outputs": [],
   "source": [
    "selected_columns = ['age', 'weight', 'size', 'seat_height', 'waist', 'average_rate', 'average_cadence',\n",
    "                    'number_steps', 'calories', 'average_speed', 'average_stride', 'average_heart_rate',\n",
    "                    'average_max_heart_rate']"
   ]
  },
  {
   "cell_type": "code",
   "execution_count": 43,
   "metadata": {},
   "outputs": [],
   "source": [
    "scaler = MinMaxScaler()\n",
    "data_scaled = scaler.fit_transform(data[selected_columns])"
   ]
  },
  {
   "cell_type": "code",
   "execution_count": 44,
   "metadata": {},
   "outputs": [
    {
     "name": "stdout",
     "output_type": "stream",
     "text": [
      "0    173\n",
      "1    154\n",
      "Name: cluster, dtype: int64\n",
      "                            name   day  month    year   age  weight   size  \\\n",
      "0   CHUCO TACCA, Gabriel Alberto  24.0    3.0  2010.0  12.0    50.9  143.8   \n",
      "1    FIESTAS PAZ, Jose Edilberto   3.0   11.0  2009.0  13.0    40.9  156.0   \n",
      "2  HUACHACA HURTADO, Jhon Dayron  12.0    7.0  2009.0  13.0    57.0  159.7   \n",
      "\n",
      "   seat_height  waist  average_rate  average_cadence  number_steps  calories  \\\n",
      "0         73.5   86.1           676              109           838        77   \n",
      "1         77.5   64.5           594              124           803        69   \n",
      "2         82.5   84.2           507              130           782        65   \n",
      "\n",
      "   average_speed  average_stride  average_heart_rate  average_max_heart_rate  \\\n",
      "0           5.32              81                 130                     139   \n",
      "1           6.67              79                 129                     140   \n",
      "2           7.10              91                 123                     141   \n",
      "\n",
      "   cluster  \n",
      "0        0  \n",
      "1        0  \n",
      "2        0  \n"
     ]
    },
    {
     "name": "stderr",
     "output_type": "stream",
     "text": [
      "/home/sandokan/anaconda3/lib/python3.10/site-packages/sklearn/cluster/_kmeans.py:870: FutureWarning: The default value of `n_init` will change from 10 to 'auto' in 1.4. Set the value of `n_init` explicitly to suppress the warning\n",
      "  warnings.warn(\n"
     ]
    }
   ],
   "source": [
    "# Entrenar el modelo de clustering (K-Means)\n",
    "kmeans = KMeans(n_clusters=2, random_state=42)\n",
    "kmeans.fit(data_scaled)\n",
    "\n",
    "# Obtener las etiquetas de los clusters\n",
    "cluster_labels = kmeans.labels_\n",
    "\n",
    "# Añadir las etiquetas al dataframe original\n",
    "data['cluster'] = cluster_labels\n",
    "\n",
    "# Imprimir los resultados\n",
    "print(data['cluster'].value_counts())\n",
    "print(data.head(3))"
   ]
  },
  {
   "cell_type": "code",
   "execution_count": 46,
   "metadata": {},
   "outputs": [
    {
     "data": {
      "image/png": "[encoded data removed]",
      "text/plain": [
       "<Figure size 640x480 with 1 Axes>"
      ]
     },
     "metadata": {},
     "output_type": "display_data"
    }
   ],
   "source": [
    "import matplotlib.pyplot as plt\n",
    "\n",
    "# Suponiendo que ya tienes tus datos y las etiquetas de cluster asignadas en el DataFrame \"data\"\n",
    "\n",
    "# Obtener las coordenadas X e Y para el gráfico de dispersión\n",
    "X = data['number_steps']\n",
    "Y = data['average_heart_rate']\n",
    "\n",
    "# Obtener las etiquetas de cluster\n",
    "cluster_labels = data['cluster']\n",
    "\n",
    "# Crear un diccionario de colores para asignar un color a cada etiqueta de cluster\n",
    "colors = {0: 'red', 1: 'blue',2: 'green'}  # Agrega más colores si tienes más clusters\n",
    "\n",
    "# Crear el gráfico de dispersión\n",
    "plt.scatter(X, Y, c=[colors[label] for label in cluster_labels])\n",
    "\n",
    "# Agregar etiquetas y título\n",
    "plt.xlabel('Pasos')\n",
    "plt.ylabel('Frecuencia Cardiaca Media')\n",
    "plt.title('Resultados del Clustering')\n",
    "\n",
    "# Mostrar el gráfico\n",
    "plt.show()\n"
   ]
  },
  {
   "cell_type": "code",
   "execution_count": 37,
   "metadata": {},
   "outputs": [
    {
     "name": "stdout",
     "output_type": "stream",
     "text": [
      "Cluster asignado al nuevo estudiante: 0\n"
     ]
    },
    {
     "name": "stderr",
     "output_type": "stream",
     "text": [
      "/home/sandokan/anaconda3/lib/python3.10/site-packages/sklearn/base.py:420: UserWarning: X does not have valid feature names, but MinMaxScaler was fitted with feature names\n",
      "  warnings.warn(\n"
     ]
    }
   ],
   "source": [
    "# Datos del nuevo estudiante\n",
    "new_student = {\n",
    "    'age': 14,\n",
    "    'weight': 45.5,\n",
    "    'size': 155.0,\n",
    "    'seat_height': 75.0,\n",
    "    'waist': 60.0,\n",
    "    'average_rate': 1800,\n",
    "    'average_cadence': 50,\n",
    "    'number_steps': 1200,\n",
    "    'calories': 200,\n",
    "    'average_speed': 2.5,\n",
    "    'average_stride': 80,\n",
    "    'average_heart_rate': 110,\n",
    "    'average_max_heart_rate': 140\n",
    "}\n",
    "\n",
    "# Escalar los datos del nuevo estudiante\n",
    "scaled_student = scaler.transform([list(new_student.values())])\n",
    "\n",
    "# Predecir el cluster del nuevo estudiante\n",
    "predicted_cluster = kmeans.predict(scaled_student)[0]\n",
    "\n",
    "# Imprimir el resultado\n",
    "print(\"Cluster asignado al nuevo estudiante:\", predicted_cluster)"
   ]
  }
 ],
 "metadata": {
  "kernelspec": {
   "display_name": "base",
   "language": "python",
   "name": "python3"
  },
  "language_info": {
   "codemirror_mode": {
    "name": "ipython",
    "version": 3
   },
   "file_extension": ".py",
   "mimetype": "text/x-python",
   "name": "python",
   "nbconvert_exporter": "python",
   "pygments_lexer": "ipython3",
   "version": "3.10.9"
  },
  "orig_nbformat": 4
 },
 "nbformat": 4,
 "nbformat_minor": 2
}
